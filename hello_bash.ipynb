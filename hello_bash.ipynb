{
 "cells": [
  {
   "cell_type": "markdown",
   "id": "5c2173dc-a246-4f4d-a652-e05d5f52527d",
   "metadata": {},
   "source": [
    "# Hello World in Bash \n",
    "\"This notebook demonstrates a Bash script using Jupyters '%%bash' magic.\""
   ]
  },
  {
   "cell_type": "code",
   "execution_count": 6,
   "id": "d500ce3e-3f24-40c3-94fb-2f9e1ffd7515",
   "metadata": {},
   "outputs": [
    {
     "name": "stdout",
     "output_type": "stream",
     "text": [
      "Hello, world from Bash\n"
     ]
    }
   ],
   "source": [
    "%%bash\n",
    "echo \"Hello, world from Bash\""
   ]
  },
  {
   "cell_type": "code",
   "execution_count": null,
   "id": "781f1084-efdf-4611-809a-97a2bc027ac0",
   "metadata": {},
   "outputs": [],
   "source": []
  }
 ],
 "metadata": {
  "kernelspec": {
   "display_name": "Python (7030_class_1)",
   "language": "python",
   "name": "7030_class_1"
  },
  "language_info": {
   "codemirror_mode": {
    "name": "ipython",
    "version": 3
   },
   "file_extension": ".py",
   "mimetype": "text/x-python",
   "name": "python",
   "nbconvert_exporter": "python",
   "pygments_lexer": "ipython3",
   "version": "3.10.18"
  }
 },
 "nbformat": 4,
 "nbformat_minor": 5
}
