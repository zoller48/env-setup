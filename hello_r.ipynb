{
 "cells": [
  {
   "cell_type": "markdown",
   "id": "b21fba97-be09-465e-b68f-943f34362e7e",
   "metadata": {},
   "source": [
    "# Hello World From R\n",
    "This notebook demonstrates a simple \"Hello World\" script in R."
   ]
  },
  {
   "cell_type": "code",
   "execution_count": 2,
   "id": "c214a43f-43e1-4cec-bd1a-0042633e9470",
   "metadata": {},
   "outputs": [
    {
     "name": "stdout",
     "output_type": "stream",
     "text": [
      "Hello, World from R!\n"
     ]
    }
   ],
   "source": [
    "cat(\"Hello, World from R!\\n\")"
   ]
  },
  {
   "cell_type": "code",
   "execution_count": null,
   "id": "bd4f2190-870c-415a-af10-dc35aac1da70",
   "metadata": {},
   "outputs": [],
   "source": []
  }
 ],
 "metadata": {
  "kernelspec": {
   "display_name": "R (7030_class_1)",
   "language": "R",
   "name": "ir_7030_class_1"
  },
  "language_info": {
   "codemirror_mode": "r",
   "file_extension": ".r",
   "mimetype": "text/x-r-source",
   "name": "R",
   "pygments_lexer": "r",
   "version": "4.4.3"
  }
 },
 "nbformat": 4,
 "nbformat_minor": 5
}
