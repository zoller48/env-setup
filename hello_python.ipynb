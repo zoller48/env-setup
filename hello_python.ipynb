{
 "cells": [
  {
   "cell_type": "markdown",
   "id": "af71ab7e-519a-45a8-983e-c86a91c9bfd3",
   "metadata": {},
   "source": [
    "# Hello World"
   ]
  },
  {
   "cell_type": "code",
   "execution_count": 1,
   "id": "52f7d466-ac91-4c22-a137-0879d947c3b6",
   "metadata": {},
   "outputs": [
    {
     "name": "stdout",
     "output_type": "stream",
     "text": [
      "Hello, World from Python\n"
     ]
    }
   ],
   "source": [
    "print(\"Hello, World from Python\")"
   ]
  },
  {
   "cell_type": "code",
   "execution_count": null,
   "id": "58ecc526-c75d-4233-a1cc-8f933bc66d1f",
   "metadata": {},
   "outputs": [],
   "source": []
  }
 ],
 "metadata": {
  "kernelspec": {
   "display_name": "Python 3 (ipykernel)",
   "language": "python",
   "name": "python3"
  },
  "language_info": {
   "codemirror_mode": {
    "name": "ipython",
    "version": 3
   },
   "file_extension": ".py",
   "mimetype": "text/x-python",
   "name": "python",
   "nbconvert_exporter": "python",
   "pygments_lexer": "ipython3",
   "version": "3.10.18"
  }
 },
 "nbformat": 4,
 "nbformat_minor": 5
}
